{
 "cells": [
  {
   "cell_type": "markdown",
   "id": "9f121668",
   "metadata": {},
   "source": [
    "create a class programm for storing information of few programmer working at microsoft"
   ]
  },
  {
   "cell_type": "code",
   "execution_count": 1,
   "id": "ddee1672",
   "metadata": {},
   "outputs": [
    {
     "name": "stdout",
     "output_type": "stream",
     "text": [
      "The name of the Microsoft programmer is peter and the product is Skype\n",
      "The name of the Microsoft programmer is Alka and the product is GitHub\n",
      "The name of the Microsoft programmer is Aspa and the product is linkedin\n",
      "The name of the Microsoft programmer is Pratyush and the product is IBm\n"
     ]
    }
   ],
   "source": [
    "class Programmer:\n",
    "    company = \"Microsoft\"\n",
    "\n",
    "    def __init__(self, name, product):\n",
    "        self.name = name\n",
    "        self.product = product\n",
    "\n",
    "    def getInfo(self):\n",
    "        print(f\"The name of the {self.company} programmer is {self.name} and the product is {self.product}\")\n",
    "\n",
    "\n",
    "peter = Programmer(\"peter\", \"Skype\")\n",
    "alka = Programmer(\"Alka\", \"GitHub\")\n",
    "aspa = Programmer(\"Aspa\", \"linkedin\")\n",
    "pratyush = Programmer(\"Pratyush\", \"IBm\")\n",
    "peter.getInfo()\n",
    "alka.getInfo()\n",
    "aspa.getInfo()\n",
    "pratyush.getInfo()\n"
   ]
  },
  {
   "cell_type": "code",
   "execution_count": null,
   "id": "9c2a917f",
   "metadata": {},
   "outputs": [],
   "source": []
  }
 ],
 "metadata": {
  "kernelspec": {
   "display_name": "Python 3 (ipykernel)",
   "language": "python",
   "name": "python3"
  },
  "language_info": {
   "codemirror_mode": {
    "name": "ipython",
    "version": 3
   },
   "file_extension": ".py",
   "mimetype": "text/x-python",
   "name": "python",
   "nbconvert_exporter": "python",
   "pygments_lexer": "ipython3",
   "version": "3.9.7"
  }
 },
 "nbformat": 4,
 "nbformat_minor": 5
}
